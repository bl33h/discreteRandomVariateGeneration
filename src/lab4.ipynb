{
 "cells": [
  {
   "cell_type": "markdown",
   "metadata": {},
   "source": [
    "# Laboratorio No. 4 - Generación de Variables Aleatorias Discretas\n",
    "* Ricardo Méndez 21289\n",
    "* Sara Echeverría 21371\n",
    "* Melissa Pérez 21385"
   ]
  },
  {
   "cell_type": "markdown",
   "metadata": {},
   "source": [
    "## Parte II - Ejercicios sobre Números Aleatorios"
   ]
  },
  {
   "cell_type": "markdown",
   "metadata": {},
   "source": [
    "### Task 1\n",
    "Considere un experimento en el cual se cuentan cuántos carros pasan por una calle determinada dentro de un rango de tiempo dado. Sabemos que el tiempo de espera para el n-ésimo evento puede ser modelando a través de una variable gamma. Considere el caso en el que usted está esperando que pase el 3er carro en la calle dada."
   ]
  },
  {
   "cell_type": "markdown",
   "metadata": {},
   "source": [
    "1. Para diferentes lambdas en [2, 1, 0.5], grafique las distribuciones gamma para cada uno de los casos."
   ]
  },
  {
   "cell_type": "markdown",
   "metadata": {},
   "source": [
    "2. ¿Qué conclusiones puede obtener de las gráficas obtenidas en términos de los tiempos de espera y el número de ocurrencias del evento? ¿Qué relación existe entre el tiempo de espera y el número de ocurrencias de un evento?"
   ]
  },
  {
   "cell_type": "markdown",
   "metadata": {},
   "source": [
    "### Task 2"
   ]
  },
  {
   "cell_type": "markdown",
   "metadata": {},
   "source": [
    "Considere las siguientes dos funciones generados de pseudo randoms y responda"
   ]
  },
  {
   "cell_type": "markdown",
   "metadata": {},
   "source": [
    "### Generador 1:\n",
    "\n",
    "$$\n",
    "x_n = 5^5 \\cdot x_{n-1} \\mod \\left(2^{35} - 1\\right)\n",
    "$$\n"
   ]
  },
  {
   "cell_type": "markdown",
   "metadata": {},
   "source": [
    "### Generador 2:\n",
    "\n",
    "$$\n",
    "x_n = 7^5 \\cdot x_{n-1} \\mod \\left(2^{31} - 1\\right)\n",
    "$$\n"
   ]
  },
  {
   "cell_type": "markdown",
   "metadata": {},
   "source": [
    "Y considere al generador de números aleatorios uniformes en (0, 1) default de su lenguaje de programación de\n",
    "elección, como un tercer generador de números aleatorios."
   ]
  },
  {
   "cell_type": "markdown",
   "metadata": {},
   "source": [
    "### Generador 3: (baseline)\n",
    "\n",
    "$$\n",
    "x_n = \\text{Math.random}()\n",
    "$$\n"
   ]
  },
  {
   "cell_type": "markdown",
   "metadata": {},
   "source": [
    "1. Construya un programa que compare estos tres generadores a través de un histograma de asteriscos (de 0\n",
    "a 1 con saltos de 0.1) Use tres comparaciones para 100, 5,000 y 100,000 repeticiones.\n",
    "2. ¿Qué generador le parece mejor? (considere solamente Generador 1 y Generador 2) ¿Por qué?"
   ]
  },
  {
   "cell_type": "markdown",
   "metadata": {},
   "source": [
    "### Task 3"
   ]
  },
  {
   "cell_type": "markdown",
   "metadata": {},
   "source": [
    "Considere la siguiente integral y responda\n",
    "$$\n",
    "\\theta = \\int_{-\\infty}^{\\infty} e^{-x^2} \\, dx = 1.7724538509051602\n",
    "$$\n"
   ]
  },
  {
   "cell_type": "markdown",
   "metadata": {},
   "source": [
    "1. Transforme la integral a una con límites de 0 a 1, muestre su procedimiento\n",
    "2. Aproxime la integral usando el método de Montecarlo, haciendo 100, 10,000 y 100,000 iteraciones."
   ]
  },
  {
   "cell_type": "markdown",
   "metadata": {},
   "source": [
    "### Task 4"
   ]
  },
  {
   "cell_type": "markdown",
   "metadata": {},
   "source": [
    "Considere la siguiente integral y responda\n",
    "\n",
    "$$\n",
    "\\theta = \\int_{0}^{\\infty} \\int_{0}^{x} e^{-(x + y)} \\, dy \\, dx = 0.5\n",
    "$$\n"
   ]
  },
  {
   "cell_type": "markdown",
   "metadata": {},
   "source": [
    "1. Transforme la integral múltiple a una en la que ambos límites sean de 0 a 1, muestre su procedimiento\n",
    "2. Aproxime la integral usando el método de Montecarlo, haciendo 100, 10,000 y 100,000 iteraciones"
   ]
  },
  {
   "cell_type": "markdown",
   "metadata": {},
   "source": [
    "## Parte III - Ejercicios sobre Generación de V.A P1"
   ]
  },
  {
   "cell_type": "markdown",
   "metadata": {},
   "source": [
    "### Task 1"
   ]
  },
  {
   "cell_type": "markdown",
   "metadata": {},
   "source": [
    "Genere muestras aleatorias a partir de una distribución geométrica utilizando el método de transformación inversa.\n",
    "1. Defina una distribución geométrica objetivo con el parámetro p=0.3\n",
    "2. Implemente el método de transformación inversa para generar muestras aleatorias a partir de la\n",
    "distribución geométrica.\n",
    "3. Genere una muestra aleatoria de tamaño 1000 a partir de la distribución geométrica.\n",
    "4. Trace un histograma de la muestra generada y compárelo con el PMF teórico de la distribución geométrica."
   ]
  },
  {
   "cell_type": "markdown",
   "metadata": {},
   "source": [
    "### Task 2"
   ]
  },
  {
   "cell_type": "markdown",
   "metadata": {},
   "source": [
    "Investigue alguna aplicación del método de transformación inversa e implementenlo.\n",
    "1. Defina la distribución que está utilizando y los parámetros de la misma\n",
    "2. . Implemente el método de transformación inversa para generar muestras aleatorias a partir de la\n",
    "distribución\n",
    "3. Genere una muestra aleatoria de tamaño 1000 a partir de la distribución usada\n",
    "4. Trace un histograma de la muestra generada y compárelo con el PMF teórico de la distribución usada"
   ]
  }
 ],
 "metadata": {
  "language_info": {
   "name": "python"
  }
 },
 "nbformat": 4,
 "nbformat_minor": 2
}
